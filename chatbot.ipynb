{
 "cells": [
  {
   "cell_type": "code",
   "execution_count": 1,
   "metadata": {},
   "outputs": [],
   "source": [
    "import random"
   ]
  },
  {
   "cell_type": "code",
   "execution_count": 2,
   "metadata": {},
   "outputs": [],
   "source": [
    "# Define a list of greetings\n",
    "greetings = [\"Hello!\", \"Hi there!\", \"Welcome!\", \"Greetings!\"]"
   ]
  },
  {
   "cell_type": "code",
   "execution_count": 3,
   "metadata": {},
   "outputs": [],
   "source": [
    "# Define a list of common questions\n",
    "common_questions = [\n",
    "\"What is your name?\",\n",
    "\"How can I help you today?\",\n",
    "\"What symptoms are you experiencing?\",\n",
    "\"Do you have any allergies?\",\n",
    "\"Are you currently taking any medications?\",\n",
    "]\n"
   ]
  },
  {
   "cell_type": "code",
   "execution_count": 4,
   "metadata": {},
   "outputs": [],
   "source": [
    "# Define a list of responses\n",
    "responses = [\n",
    "\"I'm sorry, I'm just a chatbot and cannot provide medical advice. It's best to consult with a healthcare professional.\",\n",
    "\"Please consult with a doctor for proper diagnosis and treatment.\",\n",
    "\"It's important to seek medical attention for your condition.\",\n",
    "\"I recommend reaching out to a healthcare professional to discuss your concerns.\",\n",
    "]"
   ]
  },
  {
   "cell_type": "code",
   "execution_count": 5,
   "metadata": {},
   "outputs": [],
   "source": [
    "# Function to generate a random greeting\n",
    "def get_random_greeting():\n",
    "    return random.choice(greetings)"
   ]
  },
  {
   "cell_type": "code",
   "execution_count": 6,
   "metadata": {},
   "outputs": [],
   "source": [
    "# Function to respond to user input\n",
    "def respond(user_input):\n",
    "    if user_input.endswith(\"?\"):\n",
    "        return random.choice(responses)\n",
    "    else:\n",
    "        return random.choice(common_questions)"
   ]
  },
  {
   "cell_type": "code",
   "execution_count": 7,
   "metadata": {},
   "outputs": [
    {
     "name": "stdout",
     "output_type": "stream",
     "text": [
      "Welcome!\n",
      "Do you have any allergies?\n",
      "What symptoms are you experiencing?\n",
      "What is your name?\n",
      "What symptoms are you experiencing?\n",
      "What symptoms are you experiencing?\n",
      "What is your name?\n",
      "Do you have any allergies?\n",
      "Do you have any allergies?\n",
      "Do you have any allergies?\n",
      "How can I help you today?\n",
      "Are you currently taking any medications?\n",
      "Do you have any allergies?\n",
      "Are you currently taking any medications?\n",
      "Do you have any allergies?\n",
      "Are you currently taking any medications?\n"
     ]
    }
   ],
   "source": [
    "# Main chat loop\n",
    "def chat():\n",
    "    print(get_random_greeting())\n",
    "    while True:\n",
    "        user_input = input(\">\")\n",
    "        if user_input.lower() == \"exit\":\n",
    "            break\n",
    "        print(respond(user_input))\n",
    "\n",
    "chat()"
   ]
  }
 ],
 "metadata": {
  "kernelspec": {
   "display_name": "Python 3",
   "language": "python",
   "name": "python3"
  },
  "language_info": {
   "codemirror_mode": {
    "name": "ipython",
    "version": 3
   },
   "file_extension": ".py",
   "mimetype": "text/x-python",
   "name": "python",
   "nbconvert_exporter": "python",
   "pygments_lexer": "ipython3",
   "version": "3.10.11"
  },
  "orig_nbformat": 4
 },
 "nbformat": 4,
 "nbformat_minor": 2
}
